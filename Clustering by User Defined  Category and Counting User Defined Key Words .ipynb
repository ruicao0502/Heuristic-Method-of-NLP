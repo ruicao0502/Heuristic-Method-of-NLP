{
 "cells": [
  {
   "cell_type": "markdown",
   "metadata": {},
   "source": [
    "## Heuristic Method of NLP"
   ]
  },
  {
   "cell_type": "code",
   "execution_count": 4,
   "metadata": {
    "collapsed": true
   },
   "outputs": [],
   "source": [
    "import pandas as pd\n",
    "from nltk.corpus import wordnet as wn\n",
    "import copy\n",
    "from itertools import combinations\n",
    "from nltk import word_tokenize"
   ]
  },
  {
   "cell_type": "code",
   "execution_count": 6,
   "metadata": {},
   "outputs": [
    {
     "data": {
      "text/html": [
       "<div>\n",
       "<style>\n",
       "    .dataframe thead tr:only-child th {\n",
       "        text-align: right;\n",
       "    }\n",
       "\n",
       "    .dataframe thead th {\n",
       "        text-align: left;\n",
       "    }\n",
       "\n",
       "    .dataframe tbody tr th {\n",
       "        vertical-align: top;\n",
       "    }\n",
       "</style>\n",
       "<table border=\"1\" class=\"dataframe\">\n",
       "  <thead>\n",
       "    <tr style=\"text-align: right;\">\n",
       "      <th></th>\n",
       "      <th>id</th>\n",
       "      <th>title</th>\n",
       "      <th>url</th>\n",
       "      <th>house</th>\n",
       "      <th>text</th>\n",
       "      <th>text_len</th>\n",
       "    </tr>\n",
       "  </thead>\n",
       "  <tbody>\n",
       "    <tr>\n",
       "      <th>689</th>\n",
       "      <td>343</td>\n",
       "      <td>Tom Riddle</td>\n",
       "      <td>/wiki/Tom_Riddle</td>\n",
       "      <td>Slytherin</td>\n",
       "      <td>Voldemort was considered by many to be \"the mo...</td>\n",
       "      <td>27040</td>\n",
       "    </tr>\n",
       "    <tr>\n",
       "      <th>168</th>\n",
       "      <td>13</td>\n",
       "      <td>Harry Potter</td>\n",
       "      <td>/wiki/Harry_Potter</td>\n",
       "      <td>Gryffindor</td>\n",
       "      <td>Harry was an extremely brave, loyal, and selfl...</td>\n",
       "      <td>13712</td>\n",
       "    </tr>\n",
       "    <tr>\n",
       "      <th>726</th>\n",
       "      <td>49</td>\n",
       "      <td>Dolores Umbridge</td>\n",
       "      <td>/wiki/Dolores_Umbridge</td>\n",
       "      <td>Slytherin</td>\n",
       "      <td>Dolores Umbridge was an evil woman, nothing sh...</td>\n",
       "      <td>9897</td>\n",
       "    </tr>\n",
       "    <tr>\n",
       "      <th>703</th>\n",
       "      <td>259</td>\n",
       "      <td>Horace Slughorn</td>\n",
       "      <td>/wiki/Horace_Slughorn</td>\n",
       "      <td>Slytherin</td>\n",
       "      <td>Horace Slughorn was described as having a bumb...</td>\n",
       "      <td>8805</td>\n",
       "    </tr>\n",
       "    <tr>\n",
       "      <th>53</th>\n",
       "      <td>4178</td>\n",
       "      <td>Albus Dumbledore</td>\n",
       "      <td>/wiki/Albus_Dumbledore</td>\n",
       "      <td>Gryffindor</td>\n",
       "      <td>Considered to be the most powerful wizard of h...</td>\n",
       "      <td>7789</td>\n",
       "    </tr>\n",
       "    <tr>\n",
       "      <th>709</th>\n",
       "      <td>33</td>\n",
       "      <td>Severus Snape</td>\n",
       "      <td>/wiki/Severus_Snape</td>\n",
       "      <td>Slytherin</td>\n",
       "      <td>A complicated, withdrawn person, Severus Snape...</td>\n",
       "      <td>7073</td>\n",
       "    </tr>\n",
       "    <tr>\n",
       "      <th>163</th>\n",
       "      <td>331</td>\n",
       "      <td>Peter Pettigrew</td>\n",
       "      <td>/wiki/Peter_Pettigrew</td>\n",
       "      <td>Gryffindor</td>\n",
       "      <td>Peter Pettigrew was characterised by weakness....</td>\n",
       "      <td>6602</td>\n",
       "    </tr>\n",
       "    <tr>\n",
       "      <th>467</th>\n",
       "      <td>53</td>\n",
       "      <td>Gilderoy Lockhart</td>\n",
       "      <td>/wiki/Gilderoy_Lockhart</td>\n",
       "      <td>Ravenclaw</td>\n",
       "      <td>Gilderoy Lockhart's defining characteristics w...</td>\n",
       "      <td>6245</td>\n",
       "    </tr>\n",
       "    <tr>\n",
       "      <th>229</th>\n",
       "      <td>14</td>\n",
       "      <td>Ronald Weasley</td>\n",
       "      <td>/wiki/Ronald_Weasley</td>\n",
       "      <td>Gryffindor</td>\n",
       "      <td>Ron was a very funny person, but often emotion...</td>\n",
       "      <td>6078</td>\n",
       "    </tr>\n",
       "    <tr>\n",
       "      <th>646</th>\n",
       "      <td>16</td>\n",
       "      <td>Draco Malfoy</td>\n",
       "      <td>/wiki/Draco_Malfoy</td>\n",
       "      <td>Slytherin</td>\n",
       "      <td>Draco was, in general, an arrogant, spiteful b...</td>\n",
       "      <td>5435</td>\n",
       "    </tr>\n",
       "  </tbody>\n",
       "</table>\n",
       "</div>"
      ],
      "text/plain": [
       "       id              title                      url       house  \\\n",
       "689   343         Tom Riddle         /wiki/Tom_Riddle   Slytherin   \n",
       "168    13       Harry Potter       /wiki/Harry_Potter  Gryffindor   \n",
       "726    49   Dolores Umbridge   /wiki/Dolores_Umbridge   Slytherin   \n",
       "703   259    Horace Slughorn    /wiki/Horace_Slughorn   Slytherin   \n",
       "53   4178   Albus Dumbledore   /wiki/Albus_Dumbledore  Gryffindor   \n",
       "709    33      Severus Snape      /wiki/Severus_Snape   Slytherin   \n",
       "163   331    Peter Pettigrew    /wiki/Peter_Pettigrew  Gryffindor   \n",
       "467    53  Gilderoy Lockhart  /wiki/Gilderoy_Lockhart   Ravenclaw   \n",
       "229    14     Ronald Weasley     /wiki/Ronald_Weasley  Gryffindor   \n",
       "646    16       Draco Malfoy       /wiki/Draco_Malfoy   Slytherin   \n",
       "\n",
       "                                                  text  text_len  \n",
       "689  Voldemort was considered by many to be \"the mo...     27040  \n",
       "168  Harry was an extremely brave, loyal, and selfl...     13712  \n",
       "726  Dolores Umbridge was an evil woman, nothing sh...      9897  \n",
       "703  Horace Slughorn was described as having a bumb...      8805  \n",
       "53   Considered to be the most powerful wizard of h...      7789  \n",
       "709  A complicated, withdrawn person, Severus Snape...      7073  \n",
       "163  Peter Pettigrew was characterised by weakness....      6602  \n",
       "467  Gilderoy Lockhart's defining characteristics w...      6245  \n",
       "229  Ron was a very funny person, but often emotion...      6078  \n",
       "646  Draco was, in general, an arrogant, spiteful b...      5435  "
      ]
     },
     "execution_count": 6,
     "metadata": {},
     "output_type": "execute_result"
    }
   ],
   "source": [
    "pd.read_pickle('mydf_relevant.pkl').head(10)"
   ]
  },
  {
   "cell_type": "code",
   "execution_count": 30,
   "metadata": {},
   "outputs": [
    {
     "data": {
      "text/html": [
       "<div>\n",
       "<style>\n",
       "    .dataframe thead tr:only-child th {\n",
       "        text-align: right;\n",
       "    }\n",
       "\n",
       "    .dataframe thead th {\n",
       "        text-align: left;\n",
       "    }\n",
       "\n",
       "    .dataframe tbody tr th {\n",
       "        vertical-align: top;\n",
       "    }\n",
       "</style>\n",
       "<table border=\"1\" class=\"dataframe\">\n",
       "  <thead>\n",
       "    <tr style=\"text-align: right;\">\n",
       "      <th></th>\n",
       "      <th>id</th>\n",
       "      <th>title</th>\n",
       "      <th>url</th>\n",
       "      <th>house</th>\n",
       "      <th>text</th>\n",
       "      <th>text_len</th>\n",
       "    </tr>\n",
       "  </thead>\n",
       "  <tbody>\n",
       "    <tr>\n",
       "      <th>689</th>\n",
       "      <td>343</td>\n",
       "      <td>Tom Riddle</td>\n",
       "      <td>/wiki/Tom_Riddle</td>\n",
       "      <td>Slytherin</td>\n",
       "      <td>Voldemort was considered by many to be \"the mo...</td>\n",
       "      <td>27040</td>\n",
       "    </tr>\n",
       "    <tr>\n",
       "      <th>168</th>\n",
       "      <td>13</td>\n",
       "      <td>Harry Potter</td>\n",
       "      <td>/wiki/Harry_Potter</td>\n",
       "      <td>Gryffindor</td>\n",
       "      <td>Harry was an extremely brave, loyal, and selfl...</td>\n",
       "      <td>13712</td>\n",
       "    </tr>\n",
       "    <tr>\n",
       "      <th>726</th>\n",
       "      <td>49</td>\n",
       "      <td>Dolores Umbridge</td>\n",
       "      <td>/wiki/Dolores_Umbridge</td>\n",
       "      <td>Slytherin</td>\n",
       "      <td>Dolores Umbridge was an evil woman, nothing sh...</td>\n",
       "      <td>9897</td>\n",
       "    </tr>\n",
       "    <tr>\n",
       "      <th>703</th>\n",
       "      <td>259</td>\n",
       "      <td>Horace Slughorn</td>\n",
       "      <td>/wiki/Horace_Slughorn</td>\n",
       "      <td>Slytherin</td>\n",
       "      <td>Horace Slughorn was described as having a bumb...</td>\n",
       "      <td>8805</td>\n",
       "    </tr>\n",
       "    <tr>\n",
       "      <th>53</th>\n",
       "      <td>4178</td>\n",
       "      <td>Albus Dumbledore</td>\n",
       "      <td>/wiki/Albus_Dumbledore</td>\n",
       "      <td>Gryffindor</td>\n",
       "      <td>Considered to be the most powerful wizard of h...</td>\n",
       "      <td>7789</td>\n",
       "    </tr>\n",
       "  </tbody>\n",
       "</table>\n",
       "</div>"
      ],
      "text/plain": [
       "       id             title                     url       house  \\\n",
       "689   343        Tom Riddle        /wiki/Tom_Riddle   Slytherin   \n",
       "168    13      Harry Potter      /wiki/Harry_Potter  Gryffindor   \n",
       "726    49  Dolores Umbridge  /wiki/Dolores_Umbridge   Slytherin   \n",
       "703   259   Horace Slughorn   /wiki/Horace_Slughorn   Slytherin   \n",
       "53   4178  Albus Dumbledore  /wiki/Albus_Dumbledore  Gryffindor   \n",
       "\n",
       "                                                  text  text_len  \n",
       "689  Voldemort was considered by many to be \"the mo...     27040  \n",
       "168  Harry was an extremely brave, loyal, and selfl...     13712  \n",
       "726  Dolores Umbridge was an evil woman, nothing sh...      9897  \n",
       "703  Horace Slughorn was described as having a bumb...      8805  \n",
       "53   Considered to be the most powerful wizard of h...      7789  "
      ]
     },
     "execution_count": 30,
     "metadata": {},
     "output_type": "execute_result"
    }
   ],
   "source": [
    "mydf_relevant.head()"
   ]
  },
  {
   "cell_type": "code",
   "execution_count": 32,
   "metadata": {
    "collapsed": true
   },
   "outputs": [],
   "source": [
    "'''All of these characteristics are nouns'''\n",
    "trait_dict = {}\n",
    "trait_dict['Gryffindor'] = ['bravery', 'nerve', 'chivalry', 'daring', 'courage']\n",
    "trait_dict['Slytherin'] = ['resourcefulness', 'cunning', 'ambition', 'determination', 'self-preservation', 'fraternity',\n",
    "                           'cleverness']\n",
    "trait_dict['Ravenclaw'] = ['intelligence', 'wit', 'wisdom', 'creativity', 'originality', 'individuality', 'acceptance']\n",
    "trait_dict['Hufflepuff'] = ['dedication', 'diligence', 'fairness', 'patience', 'kindness', 'tolerance', 'persistence',\n",
    "                            'loyalty']"
   ]
  },
  {
   "cell_type": "code",
   "execution_count": 34,
   "metadata": {},
   "outputs": [
    {
     "data": {
      "text/plain": [
       "'Scan through the \"text\" column in our DataFrame and count the number of times a characteristic appears'"
      ]
     },
     "execution_count": 34,
     "metadata": {},
     "output_type": "execute_result"
    }
   ],
   "source": [
    "'''Scan through the \"text\" column in our DataFrame and count the number of times a characteristic appears'''\n"
   ]
  },
  {
   "cell_type": "code",
   "execution_count": 62,
   "metadata": {
    "scrolled": true
   },
   "outputs": [
    {
     "name": "stdout",
     "output_type": "stream",
     "text": [
      "[Synset('wit.n.01'), Synset('brain.n.02'), Synset('wag.n.01')]\n",
      "\n",
      "lemmas:  [Lemma('wit.n.01.wit'), Lemma('wit.n.01.humor'), Lemma('wit.n.01.humour'), Lemma('wit.n.01.witticism'), Lemma('wit.n.01.wittiness')]\n",
      "definition:  a message whose ingenuity or verbal skill or incongruity has the power to evoke laughter\n",
      "---------------------------------------- \n",
      "\n",
      "\n",
      "lemmas:  [Lemma('brain.n.02.brain'), Lemma('brain.n.02.brainpower'), Lemma('brain.n.02.learning_ability'), Lemma('brain.n.02.mental_capacity'), Lemma('brain.n.02.mentality'), Lemma('brain.n.02.wit')]\n",
      "definition:  mental ability\n",
      "---------------------------------------- \n",
      "\n",
      "\n",
      "lemmas:  [Lemma('wag.n.01.wag'), Lemma('wag.n.01.wit'), Lemma('wag.n.01.card')]\n",
      "definition:  a witty amusing person who makes jokes\n",
      "---------------------------------------- \n",
      "\n",
      "\n"
     ]
    }
   ],
   "source": [
    "'''Show example meaning  in order to choose relavent synsets for lemmas'''\n",
    "wit_synsets = wn.synsets('wit')\n",
    "print (wit_synsets)\n",
    "print(\"\")\n",
    " \n",
    "for wit in wit_synsets:\n",
    "    print(\"lemmas: \", wit.lemmas())\n",
    "    print(\"definition: \", wit.definition())\n",
    "    print ('-' * 40, '\\n\\n')\n",
    "    \n"
   ]
  },
  {
   "cell_type": "code",
   "execution_count": 96,
   "metadata": {
    "collapsed": true
   },
   "outputs": [],
   "source": [
    "# Manually select the synsets that are relevant to us\n",
    "relevant_synsets = {}\n",
    "relevant_synsets['Ravenclaw'] = [wn.synset('intelligence.n.01'), wn.synset('wit.n.01'), wn.synset('brain.n.02'),\n",
    "                                 wn.synset('wisdom.n.01'), wn.synset('wisdom.n.02'), wn.synset('wisdom.n.03'),\n",
    "                                 wn.synset('wisdom.n.04'), wn.synset('creativity.n.01'), wn.synset('originality.n.01'),\n",
    "                                 wn.synset('originality.n.02'), wn.synset('individuality.n.01'), wn.synset('credence.n.01'),\n",
    "                                 wn.synset('acceptance.n.03')]\n",
    "relevant_synsets['Hufflepuff'] = [wn.synset('dedication.n.01'), wn.synset('commitment.n.04'), wn.synset('commitment.n.02'),\n",
    "                                  wn.synset('diligence.n.01'), wn.synset('diligence.n.02'), wn.synset('application.n.06'),\n",
    "                                  wn.synset('fairness.n.01'), wn.synset('fairness.n.01'), wn.synset('patience.n.01'),\n",
    "                                  wn.synset('kindness.n.01'), wn.synset('forgivingness.n.01'), wn.synset('kindness.n.03'),\n",
    "                                  wn.synset('tolerance.n.03'), wn.synset('tolerance.n.04'), wn.synset('doggedness.n.01'),\n",
    "                                  wn.synset('loyalty.n.01'), wn.synset('loyalty.n.02')]\n",
    "relevant_synsets['Gryffindor'] = [wn.synset('courage.n.01'), wn.synset('fearlessness.n.01'), wn.synset('heart.n.03'),\n",
    "                                  wn.synset('boldness.n.02'), wn.synset('chivalry.n.01'), wn.synset('boldness.n.01')]\n",
    "relevant_synsets['Slytherin'] = [wn.synset('resourcefulness.n.01'), wn.synset('resource.n.03'), wn.synset('craft.n.05'),\n",
    "                                 wn.synset('cunning.n.02'), wn.synset('ambition.n.01'), wn.synset('ambition.n.02'),\n",
    "                                 wn.synset('determination.n.02'), wn.synset('determination.n.04'),\n",
    "                                 wn.synset('self-preservation.n.01'), wn.synset('brotherhood.n.02'),\n",
    "                                 wn.synset('inventiveness.n.01'), wn.synset('brightness.n.02'), wn.synset('ingenuity.n.02')]"
   ]
  },
  {
   "cell_type": "code",
   "execution_count": 97,
   "metadata": {
    "collapsed": true
   },
   "outputs": [],
   "source": [
    "# Function that will get the different word forms from a lemma\n",
    "def get_forms(lemma):\n",
    "    drfs = lemma.derivationally_related_forms()\n",
    "    output_list = []\n",
    "    if drfs:\n",
    "        for drf in drfs:\n",
    "            drf_pos = str(drf).split(\".\")[1]\n",
    "            if drf_pos in ['n', 's', 'a']:\n",
    "                output_list.append(drf.name().lower())\n",
    "                if drf_pos in ['s', 'a']:\n",
    "                    # Adverbs + \"-ness\" nouns + comparative & superlative adjectives\n",
    "                    if len(drf.name()) == 3:\n",
    "                        last_letter = drf.name()[-1:]\n",
    "                        output_list.append(drf.name().lower() + last_letter + 'er')\n",
    "                        output_list.append(drf.name().lower() + last_letter + 'est')\n",
    "                        output_list.append(drf.name().lower()+'ness')\n",
    "                        output_list.append(drf.name().lower()+'ly')\n",
    "                    elif drf.name()[-4:] in ['able', 'ible']:\n",
    "                        output_list.append(drf.name().lower()+'r')\n",
    "                        output_list.append(drf.name().lower()+'st')\n",
    "                        output_list.append(drf.name().lower()+'ness')\n",
    "                        output_list.append(drf.name()[:-1].lower()+'y')\n",
    "                    elif drf.name()[-1:] == 'e':\n",
    "                        output_list.append(drf.name().lower()+'r')\n",
    "                        output_list.append(drf.name().lower()+'st')\n",
    "                        output_list.append(drf.name().lower()+'ness')\n",
    "                        output_list.append(drf.name().lower()+'ly')\n",
    "                    elif drf.name()[-2:] == 'ic':\n",
    "                        output_list.append(drf.name().lower()+'er')\n",
    "                        output_list.append(drf.name().lower()+'est')\n",
    "                        output_list.append(drf.name().lower()+'ness')\n",
    "                        output_list.append(drf.name().lower()+'ally')\n",
    "                    elif drf.name()[-1:] == 'y':\n",
    "                        output_list.append(drf.name()[:-1].lower()+'ier')\n",
    "                        output_list.append(drf.name()[:-1].lower()+'iest')\n",
    "                        output_list.append(drf.name()[:-1].lower()+'iness')\n",
    "                        output_list.append(drf.name()[:-1].lower()+'ily')\n",
    "                    else:\n",
    "                        output_list.append(drf.name().lower()+'er')\n",
    "                        output_list.append(drf.name().lower()+'est')\n",
    "                        output_list.append(drf.name().lower()+'ness')\n",
    "                        output_list.append(drf.name().lower()+'ly')\n",
    "        return output_list\n",
    "    else:\n",
    "        return output_list"
   ]
  },
  {
   "cell_type": "code",
   "execution_count": 98,
   "metadata": {
    "collapsed": true
   },
   "outputs": [],
   "source": [
    "# Creates a copy of our trait dictionary\n",
    "import copy\n",
    "new_trait_dict = copy.deepcopy(trait_dict)\n",
    "antonym_dict = {}"
   ]
  },
  {
   "cell_type": "code",
   "execution_count": 100,
   "metadata": {
    "collapsed": true
   },
   "outputs": [],
   "source": [
    "# Add synonyms and word forms to the (new) trait dictionary; also add antonyms (and their word forms) to the antonym dictionary\n",
    "for house, traits in trait_dict.items():\n",
    "    antonym_dict[house] = []\n",
    "    for trait in traits:\n",
    "        synsets = wn.synsets(trait, pos=wn.NOUN)\n",
    "        for synset in synsets:\n",
    "            if synset in relevant_synsets[house]:\n",
    "                for lemma in synset.lemmas():\n",
    "                    new_trait_dict[house].append(lemma.name().lower())\n",
    "                    if get_forms(lemma):\n",
    "                        new_trait_dict[house].extend(get_forms(lemma))\n",
    "                    if lemma.antonyms():\n",
    "                        for ant in lemma.antonyms():\n",
    "                            antonym_dict[house].append(ant.name().lower())\n",
    "                            if get_forms(ant):\n",
    "                                antonym_dict[house].extend(get_forms(ant))\n"
   ]
  },
  {
   "cell_type": "code",
   "execution_count": 105,
   "metadata": {},
   "outputs": [
    {
     "name": "stdout",
     "output_type": "stream",
     "text": [
      "Gryffindor traits: ['bravely', 'spunkier', 'braveness', 'nervily', 'spunkiness', 'nerviness', 'cheekiest', 'bravest', 'cheekily', 'cheeky', 'hardiness', 'courageously', 'spunk', 'bravery', 'politesse', 'mettle', 'daring', 'face', 'nervy', 'boldness', 'cheek', 'courageousest', 'nervier', 'fearlessly', 'brassy', 'cheekiness', 'braver', 'brassiest', 'heart', 'bolder', 'fearlessest', 'brave', 'spunkiest', 'nerve', 'spunkily', 'courageousness', 'fearlessness', 'spunky', 'brassier', 'hardihood', 'nerviest', 'brassiness', 'courageous', 'brassily', 'boldly', 'boldest', 'chivalry', 'gallantry', 'cheekier', 'bold', 'fearlesser', 'brass', 'courage', 'courageouser', 'fearless']\n",
      "---------------------------------------- \n",
      "\n",
      "\n",
      "Gryffindor anti-traits: ['timidness', 'timider', 'timid', 'timidest', 'cowardice', 'fear', 'timidity', 'timidly']\n",
      "---------------------------------------- \n",
      "\n",
      "\n"
     ]
    }
   ],
   "source": [
    "# Print some of our results\n",
    "print(\"Gryffindor traits: {}\".format(list(set(new_trait_dict['Gryffindor']))))\n",
    "print('-' * 40, '\\n\\n')\n",
    "\n",
    "print(\"Gryffindor anti-traits: {}\".format(list(set(antonym_dict['Gryffindor']))))\n",
    "print('-' * 40, '\\n\\n')"
   ]
  },
  {
   "cell_type": "code",
   "execution_count": 113,
   "metadata": {},
   "outputs": [
    {
     "name": "stdout",
     "output_type": "stream",
     "text": [
      "[('Gryffindor', 'Slytherin'), ('Gryffindor', 'Ravenclaw'), ('Gryffindor', 'Hufflepuff'), ('Slytherin', 'Ravenclaw'), ('Slytherin', 'Hufflepuff'), ('Ravenclaw', 'Hufflepuff')]\n"
     ]
    }
   ],
   "source": [
    "from itertools import combinations\n",
    "print(list(combinations(list(new_trait_dict.keys()), 2)))"
   ]
  },
  {
   "cell_type": "code",
   "execution_count": 118,
   "metadata": {},
   "outputs": [
    {
     "name": "stdout",
     "output_type": "stream",
     "text": [
      "Any words overlap in trait dictionary? False\n",
      "Any words overlap in antonym dictionary? False\n"
     ]
    }
   ],
   "source": [
    "'''Test Overlap Words Among Houses'''\n",
    "# Test that the trait dictionary and the antonym dictionary don't have any repeats among clusters\n",
    "from itertools import combinations\n",
    "def test_overlap(dict):\n",
    "    results = []\n",
    "    house_combos = combinations(list(dict.keys()), 2)\n",
    "    for combo in house_combos:\n",
    "        results.append(set(dict[combo[0]]).isdisjoint(dict[combo[1]]))\n",
    "    return results\n",
    "\n",
    "# Outputs results from our test; should output \"False\"\n",
    "print(\"Any words overlap in trait dictionary? {}\".format(sum(test_overlap(new_trait_dict)) !=6 ))\n",
    "print(\"Any words overlap in antonym dictionary? {}\".format(sum(test_overlap(antonym_dict)) !=6))"
   ]
  },
  {
   "cell_type": "code",
   "execution_count": 166,
   "metadata": {},
   "outputs": [
    {
     "data": {
      "text/plain": [
       "'Gryffindor'"
      ]
     },
     "execution_count": 166,
     "metadata": {},
     "output_type": "execute_result"
    }
   ],
   "source": [
    "import operator\n",
    "dict={'Gryffindor': 1, 'Hufflepuff': 0, 'Ravenclaw': 0, 'Slytherin': 0}\n",
    "max(dict.items(), key=operator.itemgetter(1))[0]"
   ]
  },
  {
   "cell_type": "code",
   "execution_count": 167,
   "metadata": {},
   "outputs": [
    {
     "data": {
      "text/plain": [
       "1"
      ]
     },
     "execution_count": 167,
     "metadata": {},
     "output_type": "execute_result"
    }
   ],
   "source": [
    "max(dict.items(), key=operator.itemgetter(1))[1]"
   ]
  },
  {
   "cell_type": "code",
   "execution_count": 170,
   "metadata": {
    "collapsed": true
   },
   "outputs": [],
   "source": [
    "'''Scan through the \"text\" column in our DataFrame and count the number of times a characteristic appears'''\n",
    "'''Build The Function'''\n",
    "# Imports \"word_tokenize\", which breaks up sentences into words and punctuation\n",
    "from nltk import word_tokenize\n",
    "def sort_student(text):\n",
    "    text_list = word_tokenize(text)\n",
    "    text_list = [word.lower() for word in text_list]\n",
    "    score_dict = {}\n",
    "    houses = ['Gryffindor', 'Hufflepuff', 'Ravenclaw', 'Slytherin']\n",
    "    for house in houses:\n",
    "        score_dict[house] = (sum([True for word in text_list if word in new_trait_dict[house]]) -\n",
    "                                  sum([True for word in text_list if word in antonym_dict[house]]))\n",
    "    sorted_house = max(dict.items(), key=operator.itemgetter(1))[0]\n",
    "    sorted_score = max(dict.items(), key=operator.itemgetter(1))[1]\n",
    "    if sum([True for i in score_dict.values() if i ==sorted_score])==1:\n",
    "        return sorted_house\n",
    "    else:\n",
    "        return 'Tie'"
   ]
  },
  {
   "cell_type": "code",
   "execution_count": 172,
   "metadata": {},
   "outputs": [
    {
     "name": "stdout",
     "output_type": "stream",
     "text": [
      "Gryffindor\n",
      "Tie\n"
     ]
    }
   ],
   "source": [
    "'''Test Function'''\n",
    "# Test our function\n",
    "print(sort_student('Alice was brave'))\n",
    "print(sort_student('Alice was British'))"
   ]
  },
  {
   "cell_type": "code",
   "execution_count": 173,
   "metadata": {
    "collapsed": true
   },
   "outputs": [],
   "source": [
    "import warnings\n",
    "warnings.filterwarnings(\"ignore\")"
   ]
  },
  {
   "cell_type": "code",
   "execution_count": 181,
   "metadata": {
    "scrolled": false
   },
   "outputs": [
    {
     "data": {
      "text/html": [
       "<div>\n",
       "<style>\n",
       "    .dataframe thead tr:only-child th {\n",
       "        text-align: right;\n",
       "    }\n",
       "\n",
       "    .dataframe thead th {\n",
       "        text-align: left;\n",
       "    }\n",
       "\n",
       "    .dataframe tbody tr th {\n",
       "        vertical-align: top;\n",
       "    }\n",
       "</style>\n",
       "<table border=\"1\" class=\"dataframe\">\n",
       "  <thead>\n",
       "    <tr style=\"text-align: right;\">\n",
       "      <th></th>\n",
       "      <th>id</th>\n",
       "      <th>title</th>\n",
       "      <th>url</th>\n",
       "      <th>house</th>\n",
       "      <th>text</th>\n",
       "      <th>text_len</th>\n",
       "      <th>new_house</th>\n",
       "    </tr>\n",
       "  </thead>\n",
       "  <tbody>\n",
       "    <tr>\n",
       "      <th>15</th>\n",
       "      <td>325</td>\n",
       "      <td>Katie Bell</td>\n",
       "      <td>/wiki/Katie_Bell</td>\n",
       "      <td>Gryffindor</td>\n",
       "      <td>Katie was a friendly person who was very inter...</td>\n",
       "      <td>698</td>\n",
       "      <td>Tie</td>\n",
       "    </tr>\n",
       "    <tr>\n",
       "      <th>22</th>\n",
       "      <td>31</td>\n",
       "      <td>Sirius Black</td>\n",
       "      <td>/wiki/Sirius_Black</td>\n",
       "      <td>Gryffindor</td>\n",
       "      <td>Sirius was true to the ideal of a Gryffindor s...</td>\n",
       "      <td>3483</td>\n",
       "      <td>Gryffindor</td>\n",
       "    </tr>\n",
       "    <tr>\n",
       "      <th>29</th>\n",
       "      <td>20</td>\n",
       "      <td>Lavender Brown</td>\n",
       "      <td>/wiki/Lavender_Brown</td>\n",
       "      <td>Gryffindor</td>\n",
       "      <td>Lavender was a somewhat silly and sentimental ...</td>\n",
       "      <td>585</td>\n",
       "      <td>Gryffindor</td>\n",
       "    </tr>\n",
       "    <tr>\n",
       "      <th>44</th>\n",
       "      <td>449</td>\n",
       "      <td>Colin Creevey</td>\n",
       "      <td>/wiki/Colin_Creevey</td>\n",
       "      <td>Gryffindor</td>\n",
       "      <td>Colin was a person who was very easily excited...</td>\n",
       "      <td>1552</td>\n",
       "      <td>Gryffindor</td>\n",
       "    </tr>\n",
       "    <tr>\n",
       "      <th>45</th>\n",
       "      <td>451</td>\n",
       "      <td>Dennis Creevey</td>\n",
       "      <td>/wiki/Dennis_Creevey</td>\n",
       "      <td>Gryffindor</td>\n",
       "      <td>Dennis apparently had a similar personality to...</td>\n",
       "      <td>185</td>\n",
       "      <td>Gryffindor</td>\n",
       "    </tr>\n",
       "    <tr>\n",
       "      <th>53</th>\n",
       "      <td>4178</td>\n",
       "      <td>Albus Dumbledore</td>\n",
       "      <td>/wiki/Albus_Dumbledore</td>\n",
       "      <td>Gryffindor</td>\n",
       "      <td>Considered to be the most powerful wizard of h...</td>\n",
       "      <td>7789</td>\n",
       "      <td>Tie</td>\n",
       "    </tr>\n",
       "    <tr>\n",
       "      <th>54</th>\n",
       "      <td>27337</td>\n",
       "      <td>Fay Dunbar</td>\n",
       "      <td>/wiki/Fay_Dunbar</td>\n",
       "      <td>Gryffindor</td>\n",
       "      <td>Fay was more outgoing than her friend, openly ...</td>\n",
       "      <td>413</td>\n",
       "      <td>Tie</td>\n",
       "    </tr>\n",
       "    <tr>\n",
       "      <th>55</th>\n",
       "      <td>30812</td>\n",
       "      <td>Fay Dunbar's friend</td>\n",
       "      <td>/wiki/Fay_Dunbar%27s_friend</td>\n",
       "      <td>Gryffindor</td>\n",
       "      <td>The girl appeared to be very different academi...</td>\n",
       "      <td>627</td>\n",
       "      <td>Gryffindor</td>\n",
       "    </tr>\n",
       "    <tr>\n",
       "      <th>62</th>\n",
       "      <td>646</td>\n",
       "      <td>Fat Lady</td>\n",
       "      <td>/wiki/Fat_Lady</td>\n",
       "      <td>Gryffindor</td>\n",
       "      <td>She was well known for her indulgence in good ...</td>\n",
       "      <td>152</td>\n",
       "      <td>Tie</td>\n",
       "    </tr>\n",
       "    <tr>\n",
       "      <th>63</th>\n",
       "      <td>21</td>\n",
       "      <td>Seamus Finnigan</td>\n",
       "      <td>/wiki/Seamus_Finnigan</td>\n",
       "      <td>Gryffindor</td>\n",
       "      <td>Through his school years, Seamus generally app...</td>\n",
       "      <td>1467</td>\n",
       "      <td>Gryffindor</td>\n",
       "    </tr>\n",
       "    <tr>\n",
       "      <th>75</th>\n",
       "      <td>15</td>\n",
       "      <td>Hermione Granger</td>\n",
       "      <td>/wiki/Hermione_Granger</td>\n",
       "      <td>Gryffindor</td>\n",
       "      <td>Hermione was noted for being extremely intelli...</td>\n",
       "      <td>4647</td>\n",
       "      <td>Tie</td>\n",
       "    </tr>\n",
       "    <tr>\n",
       "      <th>77</th>\n",
       "      <td>130336</td>\n",
       "      <td>Gryffindor fighter</td>\n",
       "      <td>/wiki/Gryffindor_fighter</td>\n",
       "      <td>Gryffindor</td>\n",
       "      <td>Little of his character and personality is kno...</td>\n",
       "      <td>252</td>\n",
       "      <td>Tie</td>\n",
       "    </tr>\n",
       "    <tr>\n",
       "      <th>82</th>\n",
       "      <td>242</td>\n",
       "      <td>Godric Gryffindor</td>\n",
       "      <td>/wiki/Godric_Gryffindor</td>\n",
       "      <td>Gryffindor</td>\n",
       "      <td>Godric Gryffindor valued courage, determinatio...</td>\n",
       "      <td>1594</td>\n",
       "      <td>Tie</td>\n",
       "    </tr>\n",
       "    <tr>\n",
       "      <th>83</th>\n",
       "      <td>47</td>\n",
       "      <td>Rubeus Hagrid</td>\n",
       "      <td>/wiki/Rubeus_Hagrid</td>\n",
       "      <td>Gryffindor</td>\n",
       "      <td>Hagrid was an incredibly warm, kind-hearted ma...</td>\n",
       "      <td>4884</td>\n",
       "      <td>Gryffindor</td>\n",
       "    </tr>\n",
       "    <tr>\n",
       "      <th>98</th>\n",
       "      <td>327</td>\n",
       "      <td>Angelina Johnson</td>\n",
       "      <td>/wiki/Angelina_Johnson</td>\n",
       "      <td>Gryffindor</td>\n",
       "      <td>Angelina Johnson was very driven to succeed, w...</td>\n",
       "      <td>879</td>\n",
       "      <td>Tie</td>\n",
       "    </tr>\n",
       "    <tr>\n",
       "      <th>100</th>\n",
       "      <td>629</td>\n",
       "      <td>Lee Jordan</td>\n",
       "      <td>/wiki/Lee_Jordan</td>\n",
       "      <td>Gryffindor</td>\n",
       "      <td>Lee was a funny boy who liked doing pranks, mu...</td>\n",
       "      <td>1232</td>\n",
       "      <td>Tie</td>\n",
       "    </tr>\n",
       "    <tr>\n",
       "      <th>111</th>\n",
       "      <td>19</td>\n",
       "      <td>Neville Longbottom</td>\n",
       "      <td>/wiki/Neville_Longbottom</td>\n",
       "      <td>Gryffindor</td>\n",
       "      <td>When he was younger, Neville was clumsy, forge...</td>\n",
       "      <td>2328</td>\n",
       "      <td>Tie</td>\n",
       "    </tr>\n",
       "    <tr>\n",
       "      <th>113</th>\n",
       "      <td>52</td>\n",
       "      <td>Remus Lupin</td>\n",
       "      <td>/wiki/Remus_Lupin</td>\n",
       "      <td>Gryffindor</td>\n",
       "      <td>Remus was compassionate, intelligent, tolerant...</td>\n",
       "      <td>4813</td>\n",
       "      <td>Gryffindor</td>\n",
       "    </tr>\n",
       "    <tr>\n",
       "      <th>130</th>\n",
       "      <td>32</td>\n",
       "      <td>Minerva McGonagall</td>\n",
       "      <td>/wiki/Minerva_McGonagall</td>\n",
       "      <td>Gryffindor</td>\n",
       "      <td>Minerva almost constantly exuded magnanimity a...</td>\n",
       "      <td>3222</td>\n",
       "      <td>Gryffindor</td>\n",
       "    </tr>\n",
       "    <tr>\n",
       "      <th>131</th>\n",
       "      <td>1013</td>\n",
       "      <td>Cormac McLaggen</td>\n",
       "      <td>/wiki/Cormac_McLaggen</td>\n",
       "      <td>Gryffindor</td>\n",
       "      <td>Aggressive and self-righteous, McLaggen epitom...</td>\n",
       "      <td>1181</td>\n",
       "      <td>Tie</td>\n",
       "    </tr>\n",
       "  </tbody>\n",
       "</table>\n",
       "</div>"
      ],
      "text/plain": [
       "         id                title                          url       house  \\\n",
       "15      325           Katie Bell             /wiki/Katie_Bell  Gryffindor   \n",
       "22       31         Sirius Black           /wiki/Sirius_Black  Gryffindor   \n",
       "29       20       Lavender Brown         /wiki/Lavender_Brown  Gryffindor   \n",
       "44      449        Colin Creevey          /wiki/Colin_Creevey  Gryffindor   \n",
       "45      451       Dennis Creevey         /wiki/Dennis_Creevey  Gryffindor   \n",
       "53     4178     Albus Dumbledore       /wiki/Albus_Dumbledore  Gryffindor   \n",
       "54    27337           Fay Dunbar             /wiki/Fay_Dunbar  Gryffindor   \n",
       "55    30812  Fay Dunbar's friend  /wiki/Fay_Dunbar%27s_friend  Gryffindor   \n",
       "62      646             Fat Lady               /wiki/Fat_Lady  Gryffindor   \n",
       "63       21      Seamus Finnigan        /wiki/Seamus_Finnigan  Gryffindor   \n",
       "75       15     Hermione Granger       /wiki/Hermione_Granger  Gryffindor   \n",
       "77   130336   Gryffindor fighter     /wiki/Gryffindor_fighter  Gryffindor   \n",
       "82      242    Godric Gryffindor      /wiki/Godric_Gryffindor  Gryffindor   \n",
       "83       47        Rubeus Hagrid          /wiki/Rubeus_Hagrid  Gryffindor   \n",
       "98      327     Angelina Johnson       /wiki/Angelina_Johnson  Gryffindor   \n",
       "100     629           Lee Jordan             /wiki/Lee_Jordan  Gryffindor   \n",
       "111      19   Neville Longbottom     /wiki/Neville_Longbottom  Gryffindor   \n",
       "113      52          Remus Lupin            /wiki/Remus_Lupin  Gryffindor   \n",
       "130      32   Minerva McGonagall     /wiki/Minerva_McGonagall  Gryffindor   \n",
       "131    1013      Cormac McLaggen        /wiki/Cormac_McLaggen  Gryffindor   \n",
       "\n",
       "                                                  text  text_len   new_house  \n",
       "15   Katie was a friendly person who was very inter...       698         Tie  \n",
       "22   Sirius was true to the ideal of a Gryffindor s...      3483  Gryffindor  \n",
       "29   Lavender was a somewhat silly and sentimental ...       585  Gryffindor  \n",
       "44   Colin was a person who was very easily excited...      1552  Gryffindor  \n",
       "45   Dennis apparently had a similar personality to...       185  Gryffindor  \n",
       "53   Considered to be the most powerful wizard of h...      7789         Tie  \n",
       "54   Fay was more outgoing than her friend, openly ...       413         Tie  \n",
       "55   The girl appeared to be very different academi...       627  Gryffindor  \n",
       "62   She was well known for her indulgence in good ...       152         Tie  \n",
       "63   Through his school years, Seamus generally app...      1467  Gryffindor  \n",
       "75   Hermione was noted for being extremely intelli...      4647         Tie  \n",
       "77   Little of his character and personality is kno...       252         Tie  \n",
       "82   Godric Gryffindor valued courage, determinatio...      1594         Tie  \n",
       "83   Hagrid was an incredibly warm, kind-hearted ma...      4884  Gryffindor  \n",
       "98   Angelina Johnson was very driven to succeed, w...       879         Tie  \n",
       "100  Lee was a funny boy who liked doing pranks, mu...      1232         Tie  \n",
       "111  When he was younger, Neville was clumsy, forge...      2328         Tie  \n",
       "113  Remus was compassionate, intelligent, tolerant...      4813  Gryffindor  \n",
       "130  Minerva almost constantly exuded magnanimity a...      3222  Gryffindor  \n",
       "131  Aggressive and self-righteous, McLaggen epitom...      1181         Tie  "
      ]
     },
     "execution_count": 181,
     "metadata": {},
     "output_type": "execute_result"
    }
   ],
   "source": [
    "mydf_relevant['new_house'] = mydf_relevant['text'].map(sort_student)\n",
    "mydf_relevant.head(20)\n",
    "mydf_relevant.sort_index().head(20)"
   ]
  },
  {
   "cell_type": "code",
   "execution_count": 182,
   "metadata": {},
   "outputs": [
    {
     "name": "stdout",
     "output_type": "stream",
     "text": [
      "Match rate: 0.16666666666666666\n",
      "Percentage of ties: 0.5625\n"
     ]
    }
   ],
   "source": [
    "print(\"Match rate: {}\".format(sum(mydf_relevant['house'] == mydf_relevant['new_house']) / len(mydf_relevant)))\n",
    "print(\"Percentage of ties: {}\".format(sum(mydf_relevant['new_house'] == 'Tie') / len(mydf_relevant)))"
   ]
  }
 ],
 "metadata": {
  "kernelspec": {
   "display_name": "Python 3",
   "language": "python",
   "name": "python3"
  },
  "language_info": {
   "codemirror_mode": {
    "name": "ipython",
    "version": 3
   },
   "file_extension": ".py",
   "mimetype": "text/x-python",
   "name": "python",
   "nbconvert_exporter": "python",
   "pygments_lexer": "ipython3",
   "version": "3.6.1"
  }
 },
 "nbformat": 4,
 "nbformat_minor": 2
}
